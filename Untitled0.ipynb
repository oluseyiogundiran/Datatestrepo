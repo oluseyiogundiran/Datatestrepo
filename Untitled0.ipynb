{
  "nbformat": 4,
  "nbformat_minor": 0,
  "metadata": {
    "colab": {
      "provenance": [],
      "authorship_tag": "ABX9TyMyPCQYantQ7SX1DnQRACkc",
      "include_colab_link": true
    },
    "kernelspec": {
      "name": "python3",
      "display_name": "Python 3"
    },
    "language_info": {
      "name": "python"
    }
  },
  "cells": [
    {
      "cell_type": "markdown",
      "metadata": {
        "id": "view-in-github",
        "colab_type": "text"
      },
      "source": [
        "<a href=\"https://colab.research.google.com/github/oluseyiogundiran/Datatestrepo/blob/main/Untitled0.ipynb\" target=\"_parent\"><img src=\"https://colab.research.google.com/assets/colab-badge.svg\" alt=\"Open In Colab\"/></a>"
      ]
    },
    {
      "cell_type": "code",
      "execution_count": 12,
      "metadata": {
        "colab": {
          "base_uri": "https://localhost:8080/"
        },
        "id": "eL8CeVBObXv5",
        "outputId": "9a91b254-5e2c-47bb-a3fa-25a75ba12865"
      },
      "outputs": [
        {
          "output_type": "stream",
          "name": "stdout",
          "text": [
            "       Mouse  Keyboard  Scanner\n",
            "Jan      150       180      200\n",
            "Feb      200       200      280\n",
            "March    300       190      330\n",
            "April    400       300      450\n"
          ]
        }
      ],
      "source": [
        "import pandas as pd\n",
        "\n",
        "d = {\"Mouse\": [150, 200, 300, 400],\n",
        "     \"Keyboard\": [180, 200, 190, 300],\n",
        "     \"Scanner\": [200, 280, 330, 450]}\n",
        "\n",
        "# Creating a DataFrame with the given dictionary and specifying the index\n",
        "df = pd.DataFrame(d, index=[\"Jan\", \"Feb\", \"March\", \"April\"])\n",
        "\n",
        "# Display the DataFrame\n",
        "print(df)\n"
      ]
    },
    {
      "cell_type": "code",
      "source": [
        "# Accessing data of \"Mouse\" and \"Scanner\" columns\n",
        "mouse_data = df[\"Mouse\"]\n",
        "scanner_data = df[\"Scanner\"]\n",
        "\n",
        "# Displaying the data\n",
        "print(\"Mouse Data:\")\n",
        "print(mouse_data)\n",
        "\n",
        "print(\"\\nScanner Data:\")\n",
        "print(scanner_data)"
      ],
      "metadata": {
        "colab": {
          "base_uri": "https://localhost:8080/"
        },
        "id": "k88uqYa3iF5c",
        "outputId": "a5a361a0-29cd-496a-f754-8e0d9e241313"
      },
      "execution_count": 13,
      "outputs": [
        {
          "output_type": "stream",
          "name": "stdout",
          "text": [
            "Mouse Data:\n",
            "Jan      150\n",
            "Feb      200\n",
            "March    300\n",
            "April    400\n",
            "Name: Mouse, dtype: int64\n",
            "\n",
            "Scanner Data:\n",
            "Jan      200\n",
            "Feb      280\n",
            "March    330\n",
            "April    450\n",
            "Name: Scanner, dtype: int64\n"
          ]
        }
      ]
    },
    {
      "cell_type": "code",
      "source": [
        "# Accessing data of \"Keyboard\" column using dot notation and column name\n",
        "keyboard_data = df.Keyboard\n",
        "\n",
        "# Displaying the data\n",
        "print(\"Keyboard Data:\")\n",
        "print(keyboard_data)"
      ],
      "metadata": {
        "colab": {
          "base_uri": "https://localhost:8080/"
        },
        "id": "qCYqPF9vioiw",
        "outputId": "6af95b63-e23d-410a-a7ef-4aaaeeca7b73"
      },
      "execution_count": 14,
      "outputs": [
        {
          "output_type": "stream",
          "name": "stdout",
          "text": [
            "Keyboard Data:\n",
            "Jan      180\n",
            "Feb      200\n",
            "March    190\n",
            "April    300\n",
            "Name: Keyboard, dtype: int64\n"
          ]
        }
      ]
    },
    {
      "cell_type": "code",
      "source": [
        "# Accessing data of \"Scanner\" column using loc[]\n",
        "scanner_data = df.loc[:, \"Scanner\"]\n",
        "\n",
        "# Displaying the data\n",
        "print(\"Scanner Data:\")\n",
        "print(scanner_data)\n"
      ],
      "metadata": {
        "colab": {
          "base_uri": "https://localhost:8080/"
        },
        "id": "jyXgxCGKp1It",
        "outputId": "89ccfbbb-1757-4686-a609-12c8c921f6c0"
      },
      "execution_count": 16,
      "outputs": [
        {
          "output_type": "stream",
          "name": "stdout",
          "text": [
            "Scanner Data:\n",
            "Jan      200\n",
            "Feb      280\n",
            "March    330\n",
            "April    450\n",
            "Name: Scanner, dtype: int64\n"
          ]
        }
      ]
    },
    {
      "cell_type": "code",
      "source": [
        "# Accessing data where \"Mouse\" data is more than 200\n",
        "filtered_data = df[df['Mouse'] > 200]\n",
        "\n",
        "# Displaying the filtered data\n",
        "print(\"Filtered Data:\")\n",
        "print(filtered_data)"
      ],
      "metadata": {
        "colab": {
          "base_uri": "https://localhost:8080/"
        },
        "id": "7sx2lebqrC4x",
        "outputId": "356a7390-e015-4c3a-fa94-d9f5fb318855"
      },
      "execution_count": 17,
      "outputs": [
        {
          "output_type": "stream",
          "name": "stdout",
          "text": [
            "Filtered Data:\n",
            "       Mouse  Keyboard  Scanner\n",
            "March    300       190      330\n",
            "April    400       300      450\n"
          ]
        }
      ]
    },
    {
      "cell_type": "code",
      "source": [
        "selected_columns = df.iloc[:, [0, 2]]\n",
        "\n",
        "# Displaying the selected columns\n",
        "print(\"Selected Columns:\")\n",
        "print(selected_columns)"
      ],
      "metadata": {
        "colab": {
          "base_uri": "https://localhost:8080/"
        },
        "id": "3pGYotWuru4i",
        "outputId": "d40a60d6-ca83-4ef1-ac43-fe239663116c"
      },
      "execution_count": 18,
      "outputs": [
        {
          "output_type": "stream",
          "name": "stdout",
          "text": [
            "Selected Columns:\n",
            "       Mouse  Scanner\n",
            "Jan      150      200\n",
            "Feb      200      280\n",
            "March    300      330\n",
            "April    400      450\n"
          ]
        }
      ]
    }
  ]
}